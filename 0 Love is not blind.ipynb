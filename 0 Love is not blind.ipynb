{
 "cells": [
  {
   "cell_type": "markdown",
   "metadata": {},
   "source": [
    "# \"Love is not blind...\" computer simulation\n",
    "\n",
    "Let's write some code in R. You can do it!"
   ]
  },
  {
   "cell_type": "code",
   "execution_count": null,
   "metadata": {
    "collapsed": false,
    "run_control": {
     "read_only": false
    }
   },
   "outputs": [],
   "source": [
    "# Use R to create a set of 10000 trials if the partner guesses at random\n",
    "# (so the partner is correct 1/3 of the time)\n",
    "experiment <- factor(rbinom(10000, 1, 1/3), labels = c(\"Wrong\", \"Right\"))"
   ]
  },
  {
   "cell_type": "code",
   "execution_count": null,
   "metadata": {
    "collapsed": false,
    "scrolled": true
   },
   "outputs": [],
   "source": [
    "# Let's look at those trials\n",
    "experiment"
   ]
  },
  {
   "cell_type": "code",
   "execution_count": null,
   "metadata": {
    "collapsed": false
   },
   "outputs": [],
   "source": [
    "# Yuck! I sure don't want to count every single result, do you?\n",
    "table(experiment)"
   ]
  },
  {
   "cell_type": "code",
   "execution_count": null,
   "metadata": {
    "collapsed": false
   },
   "outputs": [],
   "source": [
    "# We can also count just the times when the partner guessed correctly\n",
    "table(experiment)[\"Right\"]"
   ]
  },
  {
   "cell_type": "code",
   "execution_count": null,
   "metadata": {
    "collapsed": false
   },
   "outputs": [],
   "source": [
    "# What % of trials resulted in a right answer?\n",
    "table(experiment)[\"Right\"]/10000"
   ]
  },
  {
   "cell_type": "code",
   "execution_count": null,
   "metadata": {
    "collapsed": false
   },
   "outputs": [],
   "source": [
    "# Take a sample of 36 couples from our original 10000\n",
    "sample(experiment, 36)"
   ]
  },
  {
   "cell_type": "code",
   "execution_count": null,
   "metadata": {
    "collapsed": false
   },
   "outputs": [],
   "source": [
    "# And take another sample of 36\n",
    "sample(experiment, 36)"
   ]
  },
  {
   "cell_type": "code",
   "execution_count": null,
   "metadata": {
    "collapsed": false
   },
   "outputs": [],
   "source": [
    "# And 3 more samples, all of them different\n",
    "sample(experiment, 36)\n",
    "sample(experiment, 36)\n",
    "sample(experiment, 36)"
   ]
  },
  {
   "cell_type": "code",
   "execution_count": null,
   "metadata": {
    "collapsed": false
   },
   "outputs": [],
   "source": [
    "# But, like before, it's a pain to count all the results one by one...\n",
    "table(sample(experiment, 36))"
   ]
  },
  {
   "cell_type": "code",
   "execution_count": null,
   "metadata": {
    "collapsed": false
   },
   "outputs": [],
   "source": [
    "# And we don't need to count incorrect results at all if we know the number of correct results\n",
    "table(sample(experiment, 36))[\"Right\"]\n",
    "table(sample(experiment, 36))[\"Right\"]\n",
    "table(sample(experiment, 36))[\"Right\"]\n",
    "table(sample(experiment, 36))[\"Right\"]\n",
    "table(sample(experiment, 36))[\"Right\"]\n",
    "table(sample(experiment, 36))[\"Right\"]"
   ]
  },
  {
   "cell_type": "code",
   "execution_count": null,
   "metadata": {
    "collapsed": false
   },
   "outputs": [],
   "source": [
    "# And are we really going to do this over and over, one sample at a time?\n",
    "replicate(10, table(sample(experiment, 36))[\"Right\"])"
   ]
  },
  {
   "cell_type": "code",
   "execution_count": null,
   "metadata": {
    "collapsed": false,
    "scrolled": true
   },
   "outputs": [],
   "source": [
    "# Since computers can handle large amounts of data, why not run 100 samples?\n",
    "# Copy the code from above and make a change that gives you 100 samples.\n"
   ]
  },
  {
   "cell_type": "code",
   "execution_count": null,
   "metadata": {
    "collapsed": false
   },
   "outputs": [],
   "source": [
    "# Try your previous line of code again, but now divide by 36 and multiply by 100 so you can see the %\n"
   ]
  },
  {
   "cell_type": "code",
   "execution_count": null,
   "metadata": {
    "collapsed": false
   },
   "outputs": [],
   "source": [
    "# It's hard to see a pattern in all that data!\n",
    "# Let R make a histogram for you.\n",
    "hist( # Paste the code from the previous cell here # )\n",
    "\n",
    "# Run this cell a few more times to see what your histograms look like.\n",
    "# They're all different!"
   ]
  },
  {
   "cell_type": "code",
   "execution_count": null,
   "metadata": {
    "collapsed": false
   },
   "outputs": [],
   "source": [
    "# Now let's try with more than 10 samples. Try 100 samples:\n",
    "\n",
    "\n",
    "# Run this cell a few times too. Are the histograms different?"
   ]
  },
  {
   "cell_type": "code",
   "execution_count": null,
   "metadata": {
    "collapsed": false
   },
   "outputs": [],
   "source": [
    "# Try a histogram with 10000 samples!\n",
    "\n",
    "\n",
    "\n",
    "# If you run this cell a few times, how much are the histograms changing?"
   ]
  },
  {
   "cell_type": "markdown",
   "metadata": {
    "collapsed": true
   },
   "source": [
    "What do you think? Should we be impressed with the experiment's results, or not?"
   ]
  },
  {
   "cell_type": "code",
   "execution_count": null,
   "metadata": {
    "collapsed": true
   },
   "outputs": [],
   "source": []
  }
 ],
 "metadata": {
  "kernelspec": {
   "display_name": "R",
   "language": "R",
   "name": "ir"
  },
  "language_info": {
   "codemirror_mode": "r",
   "file_extension": ".r",
   "mimetype": "text/x-r-source",
   "name": "R",
   "pygments_lexer": "r",
   "version": "3.2.2"
  }
 },
 "nbformat": 4,
 "nbformat_minor": 0
}
